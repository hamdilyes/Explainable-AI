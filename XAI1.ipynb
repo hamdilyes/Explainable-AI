{
 "cells": [
  {
   "cell_type": "markdown",
   "id": "73584c39-7ac3-43b2-9864-144d9f6aa1a1",
   "metadata": {},
   "source": [
    "<center><img src='https://drive.google.com/uc?export=view&id=1qJ8NqAZolTBQY7lN-deZ8xEsU3dlUiLz' width=200></center>\n",
    "\n",
    "\n",
    "<h6><center></center></h6>\n",
    "\n",
    "<h1>\n",
    "<hr style=\" border:none; height:3px;\">\n",
    "<center>Cours XAI</center>\n",
    "    <center> LAB1 : Modèles transparents</center>\n",
    "<hr style=\" border:none; height:3px;\">\n",
    "</h1>"
   ]
  },
  {
   "cell_type": "markdown",
   "id": "b5d42f3b",
   "metadata": {},
   "source": [
    "# Prérequis\n",
    "En utilisant pip, pip3, conda ou autre, il faudra installer les modules python suivants:\n",
    "* numpy\n",
    "* pandas\n",
    "* scipy\n",
    "* scikit-learn\n",
    "* matplotlib\n",
    "* pygam"
   ]
  },
  {
   "cell_type": "markdown",
   "id": "9b56a57f",
   "metadata": {},
   "source": [
    "# 1. Prise en main du ficher de données\n",
    "Les données que nous allons utiliser sont des données qui indiquent le coût de l'assurance maladie pour plus de 1300 personnes.\n",
    "Une personne est décrite par:\n",
    "- son âge\n",
    "- son sexe\n",
    "- sa masse corporelle\n",
    "- son nombre d'enfants\n",
    "- si elle fume ou pas\n",
    "- la région dans laquelle elle vit\n",
    "- le coût de son assurance.\n",
    "\n",
    "Nous allons dans un premier temps prendre en main le fichier de données."
   ]
  },
  {
   "cell_type": "code",
   "execution_count": null,
   "id": "9e378c28",
   "metadata": {
    "scrolled": true
   },
   "outputs": [],
   "source": [
    "from pandas import *\n",
    "data = read_csv(r'insurance.csv')\n",
    "data.info()"
   ]
  },
  {
   "cell_type": "code",
   "execution_count": null,
   "id": "98aa798b",
   "metadata": {},
   "outputs": [],
   "source": [
    "#visualition du début de la table\n",
    "\n",
    "data.head()"
   ]
  },
  {
   "cell_type": "markdown",
   "id": "bc34ac51",
   "metadata": {},
   "source": [
    "On remarque:\n",
    "- qu'il y a 7 colonnes, 1338 lignes\n",
    "- qu'il n'y a pas de valeurs manquantes\n",
    "- qu'il y a 3 colonnes catégorielles (object).\n"
   ]
  },
  {
   "cell_type": "markdown",
   "id": "5a23da1c-fef1-410b-917f-3803797579ea",
   "metadata": {},
   "source": [
    "<div class=\"alert alert-block alert-info\"> \n",
    "\n",
    " <b>Question</b>\n",
    "    \n",
    " \n",
    "Affichez les modalités (Les valeurs possibles pour chacune de ces colonnes) ainsi que l'effectif correspondant.\n",
    "</div> \n"
   ]
  },
  {
   "cell_type": "code",
   "execution_count": null,
   "id": "d91d28d8",
   "metadata": {},
   "outputs": [],
   "source": []
  },
  {
   "cell_type": "markdown",
   "id": "c7647a0d",
   "metadata": {},
   "source": [
    "<div class=\"alert alert-block alert-info\"> \n",
    "\n",
    " <b>Question</b>\n",
    "    \n",
    " \n",
    " Que pouvez-vous dire sur l'équilibre du jeu de données ? Apprendre sur ce dernier va-t-il poser un problème de représentativité ?\n",
    "</div> \n"
   ]
  },
  {
   "cell_type": "code",
   "execution_count": null,
   "id": "822d09c4",
   "metadata": {},
   "outputs": [],
   "source": [
    "#entrez ici votre réponse entre \"\"\" \"\"\""
   ]
  },
  {
   "cell_type": "markdown",
   "id": "57bdabd0",
   "metadata": {},
   "source": [
    "# 2. Régression linéaire\n",
    "Nous allons appliquer dans un premier temps la régression linéaire. Cependant, elle ne prend pas correctement en compte les données catégorielles.\n",
    "Nous allons devoir les transformer."
   ]
  },
  {
   "cell_type": "markdown",
   "id": "524baa7b",
   "metadata": {},
   "source": [
    "## Adaptation du jeu de données\n",
    "La régression linéaire ne gère pas très bien les données catégorielles, en particulier quand elles ne sont pas ordonnées.\n",
    "Classiquement, on transforme:\n",
    "\n",
    "    - les données binaires ou à 2 modalités en 0 et 1\n",
    "    - les données à au moins 3 modalités en un codage binaire de ces modalités: on se retrouve avec autant de colonnes binaires qu'il y a de modalités.\n",
    "    \n",
    "Pour les colonnes a deux modalités, on peut directement les transformer avec une méthode de conversion."
   ]
  },
  {
   "cell_type": "code",
   "execution_count": null,
   "id": "02994a10",
   "metadata": {},
   "outputs": [],
   "source": [
    "def YesNoConverter(val):\n",
    "    if val==\"yes\": return 1\n",
    "    else: return 0\n",
    "\n",
    "data[\"smoker\"] = data[\"smoker\"].apply(YesNoConverter)"
   ]
  },
  {
   "cell_type": "code",
   "execution_count": null,
   "id": "c72d483c",
   "metadata": {},
   "outputs": [],
   "source": [
    "#faire la même chose ici\n",
    "\n",
    "def MaleFemaleConverter(val):\n",
    "    pass\n"
   ]
  },
  {
   "cell_type": "markdown",
   "id": "9e643448",
   "metadata": {},
   "source": [
    "<div class=\"alert alert-block alert-info\"> \n",
    "\n",
    " <b>Questions</b>\n",
    "    \n",
    " \n",
    "Pour la dernière colonne, nous allons utiliser la fonction  [get_dummies()](https://pandas.pydata.org/pandas-docs/stable/reference/api/pandas.get_dummies.html) qui fait tout le travail à notre place. Il faudra ensuite insérer les colonnes créées avec [concat](https://pandas.pydata.org/pandas-docs/stable/reference/api/pandas.concat.html) et supprimer la colonne originale avec [drop](https://pandas.pydata.org/pandas-docs/stable/reference/api/pandas.DataFrame.drop.html).\n",
    "</div> \n",
    "\n",
    "\n",
    "\n"
   ]
  },
  {
   "cell_type": "code",
   "execution_count": null,
   "id": "f02df3ea",
   "metadata": {},
   "outputs": [],
   "source": [
    "#Réponse ici\n",
    "\n"
   ]
  },
  {
   "cell_type": "markdown",
   "id": "afbb7af5",
   "metadata": {},
   "source": [
    "## Régression linéaire\n"
   ]
  },
  {
   "cell_type": "markdown",
   "id": "3bfa3783",
   "metadata": {},
   "source": [
    "<div class=\"alert alert-block alert-info\"> \n",
    "\n",
    " <b>Question</b>\n",
    "    \n",
    " \n",
    "Maintenant que le jeu de données est prêt, utilisez [LinearRegression](https://scikit-learn.org/stable/modules/generated/sklearn.linear_model.LinearRegression.html) de scikit learn pour obtenir un modèle linéaire.\n",
    "</div> \n",
    "\n"
   ]
  },
  {
   "cell_type": "code",
   "execution_count": null,
   "id": "780259d6",
   "metadata": {},
   "outputs": [],
   "source": [
    "import sklearn\n",
    "from sklearn.linear_model import LinearRegression\n",
    "\n",
    "#A completer\n"
   ]
  },
  {
   "cell_type": "markdown",
   "id": "0e8f4bca",
   "metadata": {},
   "source": [
    "## Interprétation\n"
   ]
  },
  {
   "cell_type": "markdown",
   "id": "2fd63f10",
   "metadata": {},
   "source": [
    "<div class=\"alert alert-block alert-info\"> \n",
    "\n",
    " <b>Questions</b>\n",
    "    \n",
    " \n",
    "Maintenant que vous avez un modèle entraînez, mettez en oeuvre ce que nous avons vu en cours (et plus!) pour l'interpréter. Utilisez au moins les poids, la SE et le t pour chaque coefficient.\n",
    "</div> \n",
    "\n"
   ]
  },
  {
   "cell_type": "code",
   "execution_count": null,
   "id": "a8583aad",
   "metadata": {},
   "outputs": [],
   "source": [
    "import numpy as np\n",
    "\n",
    "#à compléter\n",
    "\n"
   ]
  },
  {
   "cell_type": "code",
   "execution_count": null,
   "id": "c70ab438",
   "metadata": {},
   "outputs": [],
   "source": [
    "#Tapez ici votre interpretation (que révèle le modèle?)\n",
    "#Concluez sur l'utilisation de ce modèle pour ce dataset"
   ]
  },
  {
   "cell_type": "markdown",
   "id": "031102e9",
   "metadata": {},
   "source": [
    "# Arbre de régression\n",
    "Nous allons à présent tester un deuxième modèle: les arbres de régression. Normalement, la plupart des algorithmes acceptent tous les types de données. Cependant, l'implémentation de scikit learn ne le permet pas. Nous allons donc conserver notre jeu de données tel que pré-traité auparavant.\n",
    "\n",
    "J'attire sur votre attention que le problème ne vient pas des colonnes binaires (à deux modalités). En revanche, pour les colonnes catégorielles à plus de 2 modalités, l'implémentation de scikit learn traiterait plutôt des valeurs ordinales, et ce n'est pas le cas des régions chez nous. Vous trouverez sur le net des tas d'astuces qui vous diront de remplacer les modalités par des nombres, etc. Elles ne me paraissent pas judicieuses dans notre cas. Aussi, lors de l'interprétation du modèle, je vous demande de prendre avec précautions les 4 colonnes \"région\"."
   ]
  },
  {
   "cell_type": "markdown",
   "id": "58c29e05",
   "metadata": {},
   "source": [
    "## Entraînement\n"
   ]
  },
  {
   "cell_type": "markdown",
   "id": "8b1c8f3f",
   "metadata": {},
   "source": [
    "<div class=\"alert alert-block alert-info\"> \n",
    "\n",
    " <b>Question</b>\n",
    "    \n",
    " \n",
    "\n",
    "Entraînez un arbre de régression avec [scikit learn](https://scikit-learn.org/stable/modules/tree.html). Ne laissez pas les valeurs par défaut dans le constructeur, car sinon votre arbre sera très profond (et donc pas interprétable). Ajustez les paramètres tout en maintenant un taux de classification élevé. \n",
    "Remarque: pour cet exercice, il n'est pas nécessaire de mettre en place une cross-validation (on fait de la régression). On peut utilisé le taux de classification sur l'ensemble d'apprentissage ou un sous-ensemble, cela suffit pour cet exercice en tout cas.\n",
    "</div> \n",
    "\n",
    "\n"
   ]
  },
  {
   "cell_type": "code",
   "execution_count": null,
   "id": "761d3852",
   "metadata": {},
   "outputs": [],
   "source": [
    "%matplotlib notebook\n",
    "from sklearn import tree\n",
    "from matplotlib import pyplot as plt\n",
    "\n",
    "# à compléter\n"
   ]
  },
  {
   "cell_type": "markdown",
   "id": "8fc4ffe0",
   "metadata": {},
   "source": [
    "<div class=\"alert alert-block alert-info\"> \n",
    "\n",
    " <b>Question</b>\n",
    "    \n",
    " \n",
    "Prenez la dernière ligne du jeu de données, et retrouvez le chemin de la décision dans l'arbre avec la méthode [decision_path](https://scikit-learn.org/stable/modules/generated/sklearn.tree.DecisionTreeRegressor.html#sklearn.tree.DecisionTreeRegressor.decision_path). L'idée est de connaître la liste des tests par lesquels l'instance est passée.\n",
    "</div> \n",
    "\n",
    "\n",
    "\n"
   ]
  },
  {
   "cell_type": "code",
   "execution_count": null,
   "id": "9db7d473",
   "metadata": {},
   "outputs": [],
   "source": [
    "#tapez ici votre code"
   ]
  },
  {
   "cell_type": "markdown",
   "id": "dac0dab3",
   "metadata": {},
   "source": [
    "## Interprétation\n"
   ]
  },
  {
   "cell_type": "markdown",
   "id": "e055ccab",
   "metadata": {},
   "source": [
    "<div class=\"alert alert-block alert-info\"> \n",
    "\n",
    " <b>Question</b>\n",
    "    \n",
    "A présent, interprétez le modèle (intéressez-vous à la feature importance). Que révèle l'arbre?\n",
    "</div> "
   ]
  },
  {
   "cell_type": "code",
   "execution_count": null,
   "id": "40c982c1",
   "metadata": {},
   "outputs": [],
   "source": [
    "#tapez ici votre interprétation entre \"\"\" \"\"\""
   ]
  },
  {
   "cell_type": "markdown",
   "id": "d4a06288",
   "metadata": {},
   "source": [
    "# GAM\n",
    "Nous allons passer au troisième type de modèle: les GAM."
   ]
  },
  {
   "cell_type": "markdown",
   "id": "a000efd1",
   "metadata": {},
   "source": [
    "## Entraînement\n"
   ]
  },
  {
   "cell_type": "markdown",
   "id": "5714d49e",
   "metadata": {},
   "source": [
    "\n",
    "\n",
    "En utilisant le module pyGam, entraînez un GAM pour notre tâche de régression. Ne laissez pas les paramètres par défaut."
   ]
  },
  {
   "cell_type": "code",
   "execution_count": null,
   "id": "ec7ac8df",
   "metadata": {},
   "outputs": [],
   "source": [
    "from pygam import LinearGAM, s\n"
   ]
  },
  {
   "cell_type": "markdown",
   "id": "4ec296b7",
   "metadata": {},
   "source": [
    "Pourquoi avez-vous choisi cette architecture de GAM?"
   ]
  },
  {
   "cell_type": "code",
   "execution_count": null,
   "id": "e29895aa",
   "metadata": {},
   "outputs": [],
   "source": [
    "#tapez ici votre justification entre \"\"\" \"\"\""
   ]
  },
  {
   "cell_type": "markdown",
   "id": "63d4430e",
   "metadata": {},
   "source": [
    "## Interprétation\n",
    "Visualisez les termes de votre GAM. On vous donne le code :)."
   ]
  },
  {
   "cell_type": "code",
   "execution_count": null,
   "id": "536f4e64",
   "metadata": {},
   "outputs": [],
   "source": [
    "for i, term in enumerate(model3.terms):\n",
    "    if term.isintercept:\n",
    "        continue\n",
    "\n",
    "    XX = model3.generate_X_grid(term=i)\n",
    "    pdep, confi = model3.partial_dependence(term=i, X=XX, width=0.95)\n",
    "\n",
    "    plt.figure()\n",
    "    plt.plot(XX[:, term.feature], pdep)\n",
    "    plt.plot(XX[:, term.feature], confi, c='r', ls='--')\n",
    "    plt.title(repr(term))\n",
    "    plt.show()"
   ]
  },
  {
   "cell_type": "markdown",
   "id": "a850cc56",
   "metadata": {},
   "source": [
    "Quelles informations tirez-vous du GAM ?"
   ]
  },
  {
   "cell_type": "code",
   "execution_count": null,
   "id": "d8c660b4",
   "metadata": {},
   "outputs": [],
   "source": [
    "#Votre réponse ici entre \"\"\" \"\"\""
   ]
  },
  {
   "cell_type": "markdown",
   "id": "699eebae",
   "metadata": {},
   "source": [
    "# Conclusion\n",
    "Indiquez ce que les différents modèles vous ont apporté comme connaissances sur les données et le fonctionnement de ces modèles."
   ]
  },
  {
   "cell_type": "code",
   "execution_count": null,
   "id": "1a61a77e",
   "metadata": {},
   "outputs": [],
   "source": [
    "#Votre réponse ici entre \"\"\" \"\"\""
   ]
  }
 ],
 "metadata": {
  "kernelspec": {
   "display_name": "Python 3",
   "language": "python",
   "name": "python3"
  },
  "language_info": {
   "codemirror_mode": {
    "name": "ipython",
    "version": 3
   },
   "file_extension": ".py",
   "mimetype": "text/x-python",
   "name": "python",
   "nbconvert_exporter": "python",
   "pygments_lexer": "ipython3",
   "version": "3.7.9"
  }
 },
 "nbformat": 4,
 "nbformat_minor": 5
}
