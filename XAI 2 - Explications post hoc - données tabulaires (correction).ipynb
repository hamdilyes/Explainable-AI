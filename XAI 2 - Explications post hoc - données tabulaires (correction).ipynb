{
 "cells": [
  {
   "cell_type": "markdown",
   "id": "driving-factor",
   "metadata": {},
   "source": [
    "<center><img src='https://drive.google.com/uc?export=view&id=1qJ8NqAZolTBQY7lN-deZ8xEsU3dlUiLz' width=200></center>\n",
    "\n",
    "\n",
    "<h6><center></center></h6>\n",
    "\n",
    "<h1>\n",
    "<hr style=\" border:none; height:3px;\">\n",
    "<center>Cours XAI</center>\n",
    "    <center> Activités 2 : Explications post-hoc sur données tabulaires</center>\n",
    "<hr style=\" border:none; height:3px;\">\n",
    "</h1>"
   ]
  },
  {
   "cell_type": "markdown",
   "id": "perfect-holly",
   "metadata": {},
   "source": [
    "# 1.Prérequis\n",
    "N'oubliez pas d'installer avec pip (ou autre): xgboost, lime, shap\n",
    "\n",
    "# 2.Mise en place d'un modèle boîte noire\n",
    "Nous allons utiliser XGBoost pour entraîner un classifieur.\n",
    "\n",
    "Dans un premier temps, chargez le fichier de données 'insurance_propre.csv', qui correspond au même jeu de données que la dernière fois mais déjà pré-traité."
   ]
  },
  {
   "cell_type": "code",
   "execution_count": null,
   "id": "lightweight-campus",
   "metadata": {},
   "outputs": [],
   "source": [
    "from pandas import *\n",
    "data = read_csv(r'insurance_propre.csv', sep=';')\n",
    "\n",
    "data.info()"
   ]
  },
  {
   "cell_type": "markdown",
   "id": "sustainable-wildlife",
   "metadata": {},
   "source": [
    "A présent, nous allons découper ce dataset en un ensemble d'apprentissage (80%) et un autre de test (20%)."
   ]
  },
  {
   "cell_type": "code",
   "execution_count": null,
   "id": "speaking-imagination",
   "metadata": {},
   "outputs": [],
   "source": [
    "from sklearn.model_selection import train_test_split\n",
    "\n",
    "X = data.drop('charges', axis=1)\n",
    "y = data['charges']\n",
    "\n",
    "X_train, X_test, y_train, y_test = train_test_split(X, y, test_size=0.2, random_state=42)"
   ]
  },
  {
   "cell_type": "markdown",
   "id": "circular-charles",
   "metadata": {},
   "source": [
    "A présent, nous allons entraîner XGBoost avec ces données d'apprentissage. Pour cela, nous allons utiliser [XGBRegressor](https://xgboost.readthedocs.io/en/latest/python/python_api.html)."
   ]
  },
  {
   "cell_type": "code",
   "execution_count": null,
   "id": "6afd31ce",
   "metadata": {},
   "outputs": [],
   "source": [
    "pip install XGBoost"
   ]
  },
  {
   "cell_type": "code",
   "execution_count": null,
   "id": "dressed-request",
   "metadata": {},
   "outputs": [],
   "source": [
    "import xgboost as xgb\n",
    "\n",
    "regressor = xgb.XGBRegressor(\n",
    "    n_estimators=100,\n",
    "    reg_lambda=1,\n",
    "    gamma=0,\n",
    "    max_depth=3\n",
    ")\n",
    "regressor.fit(X_train.values, y_train.values)"
   ]
  },
  {
   "cell_type": "markdown",
   "id": "threaded-lesson",
   "metadata": {},
   "source": [
    "Il est possible d'inspecter le modèle et de regarder l'importance des features."
   ]
  },
  {
   "cell_type": "code",
   "execution_count": null,
   "id": "opened-burning",
   "metadata": {},
   "outputs": [],
   "source": [
    "DataFrame(regressor.feature_importances_.reshape(1, -1), columns=X_train.columns)"
   ]
  },
  {
   "cell_type": "markdown",
   "id": "united-commerce",
   "metadata": {},
   "source": [
    "Est-ce que cela vous semble cohérent ?"
   ]
  },
  {
   "cell_type": "code",
   "execution_count": null,
   "id": "thick-samba",
   "metadata": {},
   "outputs": [],
   "source": [
    "#réponse"
   ]
  },
  {
   "cell_type": "markdown",
   "id": "worldwide-teacher",
   "metadata": {},
   "source": [
    "## LIME\n",
    "Dans cette partie, nous allons appliquer LIME au modèle ci-dessus. Dans un premier temps, au lieu de générer de données, nous allons entraîner LIME sur les données d'apprentissage.\n",
    "Pour cela, regardez la classe [LimeTabularExplainer](https://lime-ml.readthedocs.io/en/latest/lime.html#lime.lime_tabular.LimeTabularExplainer)."
   ]
  },
  {
   "cell_type": "code",
   "execution_count": null,
   "id": "armed-prefix",
   "metadata": {},
   "outputs": [],
   "source": [
    "import lime\n",
    "from lime import lime_tabular\n",
    "import numpy as np\n",
    "\n",
    "explainer = lime_tabular.LimeTabularExplainer(\n",
    "    training_data=np.array(X_train),\n",
    "    feature_names=X_train.columns,\n",
    "    class_names=['charges'],\n",
    "    mode='regression'\n",
    ")"
   ]
  },
  {
   "cell_type": "markdown",
   "id": "wicked-diving",
   "metadata": {},
   "source": [
    "A présent, nous allons pouvoir étudier le premier élément de l'ensemble de test."
   ]
  },
  {
   "cell_type": "code",
   "execution_count": null,
   "id": "going-engagement",
   "metadata": {},
   "outputs": [],
   "source": [
    "print(X_test.columns)\n",
    "\n",
    "exp = explainer.explain_instance(\n",
    "    data_row=X_test.iloc[1], \n",
    "    predict_fn=regressor.predict,\n",
    "    num_features = 9\n",
    ")\n",
    "\n",
    "exp.show_in_notebook(show_table=True)"
   ]
  },
  {
   "cell_type": "markdown",
   "id": "acting-sierra",
   "metadata": {},
   "source": [
    "#Interprétez le résultat"
   ]
  },
  {
   "cell_type": "markdown",
   "id": "psychological-advance",
   "metadata": {},
   "source": [
    "## SHAP\n",
    "A présent, nous allons nous intéresser à [SHAP](https://shap.readthedocs.io/en/latest/index.html), une autre alternative pour mieux comprendre les décisions de notre modèle.\n",
    "Comme nous l'avons vu, SHAP est complexe en termes de calculs. Nous devons réduire l'ensemble d'apprentissage pour pouvoir l'utiliser dans un temps raisonnable."
   ]
  },
  {
   "cell_type": "code",
   "execution_count": null,
   "id": "static-tract",
   "metadata": {},
   "outputs": [],
   "source": [
    "import shap\n",
    "train = shap.sample(X_train,10)"
   ]
  },
  {
   "cell_type": "markdown",
   "id": "literary-optics",
   "metadata": {},
   "source": [
    "Créez l'explainer à partir de cet ensemble train. Utilisez KernelExplainer car XGBoost n'est pas supporté pat TreeExplainer."
   ]
  },
  {
   "cell_type": "code",
   "execution_count": null,
   "id": "balanced-chapel",
   "metadata": {},
   "outputs": [],
   "source": [
    "explainer = shap.KernelExplainer(regressor.predict, train)"
   ]
  },
  {
   "cell_type": "markdown",
   "id": "macro-reputation",
   "metadata": {},
   "source": [
    "A présent, récupérer les valeurs de shapley avec la méthode shap_values sur les exemples de train et affichez le bilan avec summary_plot."
   ]
  },
  {
   "cell_type": "code",
   "execution_count": null,
   "id": "unnecessary-government",
   "metadata": {},
   "outputs": [],
   "source": [
    "shap_values = explainer.shap_values(train)\n",
    "print(shap_values)\n",
    "shap.summary_plot(shap_values, train)"
   ]
  },
  {
   "cell_type": "markdown",
   "id": "bright-power",
   "metadata": {},
   "source": [
    "SHAP propose également de nombreuses visualisations, comme waterfall. Il faut créer un [Explainer général](https://shap.readthedocs.io/en/latest/generated/shap.Explainer.html). Cette visualisation nous donne la participation des features à la décision."
   ]
  },
  {
   "cell_type": "code",
   "execution_count": null,
   "id": "growing-clause",
   "metadata": {},
   "outputs": [],
   "source": [
    "explainer = shap.Explainer(regressor)\n",
    "shap_values = explainer(X_test)\n",
    "\n",
    "# On prend le 2e exemple\n",
    "shap.plots.waterfall(shap_values[1])"
   ]
  },
  {
   "cell_type": "markdown",
   "id": "above-weather",
   "metadata": {},
   "source": [
    "Que concluez-vous de l'analyse SHAP ?"
   ]
  },
  {
   "cell_type": "code",
   "execution_count": null,
   "id": "finnish-haven",
   "metadata": {},
   "outputs": [],
   "source": [
    "#réponse"
   ]
  }
 ],
 "metadata": {
  "kernelspec": {
   "display_name": "Python 3",
   "language": "python",
   "name": "python3"
  },
  "language_info": {
   "codemirror_mode": {
    "name": "ipython",
    "version": 3
   },
   "file_extension": ".py",
   "mimetype": "text/x-python",
   "name": "python",
   "nbconvert_exporter": "python",
   "pygments_lexer": "ipython3",
   "version": "3.7.9"
  }
 },
 "nbformat": 4,
 "nbformat_minor": 5
}
